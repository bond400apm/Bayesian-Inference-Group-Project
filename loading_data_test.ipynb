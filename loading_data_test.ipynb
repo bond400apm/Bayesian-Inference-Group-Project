{
 "cells": [
  {
   "cell_type": "code",
   "execution_count": 1,
   "metadata": {},
   "outputs": [],
   "source": [
    "import numpy as np\n",
    "from matplotlib import pyplot as plt\n",
    "from astropy.io import ascii\n",
    "import os"
   ]
  },
  {
   "cell_type": "code",
   "execution_count": 2,
   "metadata": {},
   "outputs": [],
   "source": [
    "data = ascii.read('Binned_data/lcparam_DS17f.txt', names=['name', 'zcmb', 'zhel', 'dz', \n",
    "                                                          'mb', 'dmb', 'x1', 'dx1', \n",
    "                                                          'color', 'dcolor', '3rdvar', 'd3rdvar', \n",
    "                                                          'cov_m_s', 'cov_m_c', 'cov_s_c', 'set', \n",
    "                                                          'ra', 'dec'])\n",
    "stat_err = data['zcmb']"
   ]
  },
  {
   "cell_type": "code",
   "execution_count": 3,
   "metadata": {},
   "outputs": [
    {
     "data": {
      "text/html": [
       "<i>Table length=40</i>\n",
       "<table id=\"table4661054600\" class=\"table-striped table-bordered table-condensed\">\n",
       "<thead><tr><th>name</th><th>zcmb</th><th>zhel</th><th>dz</th><th>mb</th><th>dmb</th><th>x1</th><th>dx1</th><th>color</th><th>dcolor</th><th>3rdvar</th><th>d3rdvar</th><th>cov_m_s</th><th>cov_m_c</th><th>cov_s_c</th><th>set</th><th>ra</th><th>dec</th></tr></thead>\n",
       "<thead><tr><th>int64</th><th>float64</th><th>float64</th><th>float64</th><th>float64</th><th>float64</th><th>int64</th><th>int64</th><th>int64</th><th>int64</th><th>int64</th><th>int64</th><th>int64</th><th>int64</th><th>int64</th><th>int64</th><th>int64</th><th>int64</th></tr></thead>\n",
       "<tr><td>0</td><td>0.014</td><td>0.014</td><td>0.0</td><td>14.57001926</td><td>0.0311</td><td>0</td><td>0</td><td>0</td><td>0</td><td>0</td><td>0</td><td>0</td><td>0</td><td>0</td><td>0</td><td>0</td><td>0</td></tr>\n",
       "<tr><td>1</td><td>0.0194</td><td>0.0194</td><td>0.0</td><td>15.2279603507</td><td>0.02645</td><td>0</td><td>0</td><td>0</td><td>0</td><td>0</td><td>0</td><td>0</td><td>0</td><td>0</td><td>0</td><td>0</td><td>0</td></tr>\n",
       "<tr><td>2</td><td>0.0264</td><td>0.0264</td><td>0.0</td><td>15.934102317</td><td>0.0231</td><td>0</td><td>0</td><td>0</td><td>0</td><td>0</td><td>0</td><td>0</td><td>0</td><td>0</td><td>0</td><td>0</td><td>0</td></tr>\n",
       "<tr><td>3</td><td>0.0329</td><td>0.0329</td><td>0.0</td><td>16.4217829558</td><td>0.0235</td><td>0</td><td>0</td><td>0</td><td>0</td><td>0</td><td>0</td><td>0</td><td>0</td><td>0</td><td>0</td><td>0</td><td>0</td></tr>\n",
       "<tr><td>4</td><td>0.0396</td><td>0.0396</td><td>0.0</td><td>16.836418956</td><td>0.02845</td><td>0</td><td>0</td><td>0</td><td>0</td><td>0</td><td>0</td><td>0</td><td>0</td><td>0</td><td>0</td><td>0</td><td>0</td></tr>\n",
       "<tr><td>5</td><td>0.0475</td><td>0.0475</td><td>0.0</td><td>17.2346439906</td><td>0.0334</td><td>0</td><td>0</td><td>0</td><td>0</td><td>0</td><td>0</td><td>0</td><td>0</td><td>0</td><td>0</td><td>0</td><td>0</td></tr>\n",
       "<tr><td>6</td><td>0.056</td><td>0.056</td><td>0.0</td><td>17.5758459622</td><td>0.03215</td><td>0</td><td>0</td><td>0</td><td>0</td><td>0</td><td>0</td><td>0</td><td>0</td><td>0</td><td>0</td><td>0</td><td>0</td></tr>\n",
       "<tr><td>7</td><td>0.064</td><td>0.064</td><td>0.0</td><td>17.9104543501</td><td>0.0439</td><td>0</td><td>0</td><td>0</td><td>0</td><td>0</td><td>0</td><td>0</td><td>0</td><td>0</td><td>0</td><td>0</td><td>0</td></tr>\n",
       "<tr><td>8</td><td>0.0721</td><td>0.0721</td><td>0.0</td><td>18.1780074589</td><td>0.03865</td><td>0</td><td>0</td><td>0</td><td>0</td><td>0</td><td>0</td><td>0</td><td>0</td><td>0</td><td>0</td><td>0</td><td>0</td></tr>\n",
       "<tr><td>9</td><td>0.0811</td><td>0.0811</td><td>0.0</td><td>18.5543855764</td><td>0.04225</td><td>0</td><td>0</td><td>0</td><td>0</td><td>0</td><td>0</td><td>0</td><td>0</td><td>0</td><td>0</td><td>0</td><td>0</td></tr>\n",
       "<tr><td>...</td><td>...</td><td>...</td><td>...</td><td>...</td><td>...</td><td>...</td><td>...</td><td>...</td><td>...</td><td>...</td><td>...</td><td>...</td><td>...</td><td>...</td><td>...</td><td>...</td><td>...</td></tr>\n",
       "<tr><td>30</td><td>0.4355</td><td>0.4355</td><td>0.0</td><td>22.5579272526</td><td>0.0254</td><td>0</td><td>0</td><td>0</td><td>0</td><td>0</td><td>0</td><td>0</td><td>0</td><td>0</td><td>0</td><td>0</td><td>0</td></tr>\n",
       "<tr><td>31</td><td>0.4738</td><td>0.4738</td><td>0.0</td><td>22.797376642</td><td>0.02935</td><td>0</td><td>0</td><td>0</td><td>0</td><td>0</td><td>0</td><td>0</td><td>0</td><td>0</td><td>0</td><td>0</td><td>0</td></tr>\n",
       "<tr><td>32</td><td>0.5174</td><td>0.5174</td><td>0.0</td><td>23.0011594448</td><td>0.02685</td><td>0</td><td>0</td><td>0</td><td>0</td><td>0</td><td>0</td><td>0</td><td>0</td><td>0</td><td>0</td><td>0</td><td>0</td></tr>\n",
       "<tr><td>33</td><td>0.5742</td><td>0.5742</td><td>0.0</td><td>23.3004345026</td><td>0.0245</td><td>0</td><td>0</td><td>0</td><td>0</td><td>0</td><td>0</td><td>0</td><td>0</td><td>0</td><td>0</td><td>0</td><td>0</td></tr>\n",
       "<tr><td>34</td><td>0.6299</td><td>0.6299</td><td>0.0</td><td>23.5036280324</td><td>0.031</td><td>0</td><td>0</td><td>0</td><td>0</td><td>0</td><td>0</td><td>0</td><td>0</td><td>0</td><td>0</td><td>0</td><td>0</td></tr>\n",
       "<tr><td>35</td><td>0.724</td><td>0.724</td><td>0.0</td><td>23.8666293039</td><td>0.027</td><td>0</td><td>0</td><td>0</td><td>0</td><td>0</td><td>0</td><td>0</td><td>0</td><td>0</td><td>0</td><td>0</td><td>0</td></tr>\n",
       "<tr><td>36</td><td>0.821</td><td>0.821</td><td>0.0</td><td>24.2445519795</td><td>0.0248</td><td>0</td><td>0</td><td>0</td><td>0</td><td>0</td><td>0</td><td>0</td><td>0</td><td>0</td><td>0</td><td>0</td><td>0</td></tr>\n",
       "<tr><td>37</td><td>0.9511</td><td>0.9511</td><td>0.0</td><td>24.6411323707</td><td>0.0276</td><td>0</td><td>0</td><td>0</td><td>0</td><td>0</td><td>0</td><td>0</td><td>0</td><td>0</td><td>0</td><td>0</td><td>0</td></tr>\n",
       "<tr><td>38</td><td>1.2336</td><td>1.2336</td><td>0.0</td><td>25.3039940191</td><td>0.05635</td><td>0</td><td>0</td><td>0</td><td>0</td><td>0</td><td>0</td><td>0</td><td>0</td><td>0</td><td>0</td><td>0</td><td>0</td></tr>\n",
       "<tr><td>39</td><td>1.6123</td><td>1.6123</td><td>0.0</td><td>25.9259729107</td><td>0.0735</td><td>0</td><td>0</td><td>0</td><td>0</td><td>0</td><td>0</td><td>0</td><td>0</td><td>0</td><td>0</td><td>0</td><td>0</td></tr>\n",
       "</table>"
      ],
      "text/plain": [
       "<Table length=40>\n",
       " name   zcmb    zhel     dz         mb      ... cov_s_c  set    ra   dec \n",
       "int64 float64 float64 float64    float64    ...  int64  int64 int64 int64\n",
       "----- ------- ------- ------- ------------- ... ------- ----- ----- -----\n",
       "    0   0.014   0.014     0.0   14.57001926 ...       0     0     0     0\n",
       "    1  0.0194  0.0194     0.0 15.2279603507 ...       0     0     0     0\n",
       "    2  0.0264  0.0264     0.0  15.934102317 ...       0     0     0     0\n",
       "    3  0.0329  0.0329     0.0 16.4217829558 ...       0     0     0     0\n",
       "    4  0.0396  0.0396     0.0  16.836418956 ...       0     0     0     0\n",
       "    5  0.0475  0.0475     0.0 17.2346439906 ...       0     0     0     0\n",
       "    6   0.056   0.056     0.0 17.5758459622 ...       0     0     0     0\n",
       "    7   0.064   0.064     0.0 17.9104543501 ...       0     0     0     0\n",
       "    8  0.0721  0.0721     0.0 18.1780074589 ...       0     0     0     0\n",
       "    9  0.0811  0.0811     0.0 18.5543855764 ...       0     0     0     0\n",
       "  ...     ...     ...     ...           ... ...     ...   ...   ...   ...\n",
       "   30  0.4355  0.4355     0.0 22.5579272526 ...       0     0     0     0\n",
       "   31  0.4738  0.4738     0.0  22.797376642 ...       0     0     0     0\n",
       "   32  0.5174  0.5174     0.0 23.0011594448 ...       0     0     0     0\n",
       "   33  0.5742  0.5742     0.0 23.3004345026 ...       0     0     0     0\n",
       "   34  0.6299  0.6299     0.0 23.5036280324 ...       0     0     0     0\n",
       "   35   0.724   0.724     0.0 23.8666293039 ...       0     0     0     0\n",
       "   36   0.821   0.821     0.0 24.2445519795 ...       0     0     0     0\n",
       "   37  0.9511  0.9511     0.0 24.6411323707 ...       0     0     0     0\n",
       "   38  1.2336  1.2336     0.0 25.3039940191 ...       0     0     0     0\n",
       "   39  1.6123  1.6123     0.0 25.9259729107 ...       0     0     0     0"
      ]
     },
     "execution_count": 3,
     "metadata": {},
     "output_type": "execute_result"
    }
   ],
   "source": [
    "data"
   ]
  },
  {
   "cell_type": "code",
   "execution_count": 4,
   "metadata": {},
   "outputs": [
    {
     "data": {
      "image/png": "[encoded data removed]",
      "text/plain": [
       "<Figure size 720x444.96 with 1 Axes>"
      ]
     },
     "metadata": {
      "needs_background": "light"
     },
     "output_type": "display_data"
    }
   ],
   "source": [
    "fig, axs = plt.subplots(nrows=1, ncols=1, figsize=(10,6.18))\n",
    "colors = ['#1f77b4', '#ff7f0e', '#2ca02c', '#d62728', '#9467bd', '#8c564b', '#e377c2', '#7f7f7f', '#bcbd22', '#17becf']\n",
    "params = {'legend.fontsize': 12,\n",
    "          'figure.figsize': (15, 5),\n",
    "         'axes.labelsize': 15,\n",
    "         'axes.titlesize':20,\n",
    "         'xtick.labelsize':10,\n",
    "         'ytick.labelsize':10,\n",
    "         'ytick.major.size': 5.5,\n",
    "         'axes.linewidth': 2}\n",
    "plt.rcParams.update(params)\n",
    "axs.plot(data['zcmb'],data['mb'],'.')\n",
    "axs.set_xlabel('z', size=20)\n",
    "axs.set_ylabel(r'$m_B$', size=20)\n",
    "#axs.set_xscale('log')\n",
    "axs.minorticks_on()\n",
    "axs.tick_params(axis = 'both', which = 'major', labelsize = 15, length = 8, width = 2)\n",
    "axs.tick_params(axis = 'both', which = 'minor', labelsize = 12, length = 4, width = 1)\n",
    "#axs.grid(True)"
   ]
  },
  {
   "cell_type": "code",
   "execution_count": 5,
   "metadata": {},
   "outputs": [],
   "source": [
    "sys_error = ascii.read('Binned_data/sys_DS17f.txt')\n",
    "sys_error = sys_error['40']"
   ]
  },
  {
   "cell_type": "code",
   "execution_count": 6,
   "metadata": {},
   "outputs": [],
   "source": [
    "files = open(\"Binned_data/sys_DS17f.txt\")\n",
    "lines = files.readlines()\n",
    "files.close()\n",
    "\n",
    "array = []\n",
    "cnt = 0 \n",
    "line = []\n",
    "\n",
    "for i in np.arange(np.size(sys_error)):\n",
    "    cnt += 1\n",
    "    #print(cnt)\n",
    "    line.append(sys_error[i])\n",
    "    if cnt % 40 == 0:\n",
    "        cnt = 0\n",
    "        if len(line) > 0:\n",
    "            array.append(line)\n",
    "        line = []\n",
    "        \n",
    "#print(array)"
   ]
  },
  {
   "cell_type": "code",
   "execution_count": 7,
   "metadata": {},
   "outputs": [
    {
     "data": {
      "text/plain": [
       "<matplotlib.colorbar.Colorbar at 0x116c5d048>"
      ]
     },
     "execution_count": 7,
     "metadata": {},
     "output_type": "execute_result"
    },
    {
     "data": {
      "image/png": "[encoded data removed]",
      "text/plain": [
       "<Figure size 720x444.96 with 2 Axes>"
      ]
     },
     "metadata": {
      "needs_background": "light"
     },
     "output_type": "display_data"
    }
   ],
   "source": [
    "fig, ax1 = plt.subplots(nrows=1, ncols=1, figsize=(10,6.18))\n",
    "imgplot = plt.imshow(array, cmap='bone', vmin=-0.001, vmax=0.001)   \n",
    "ax1.set_xticklabels(['', 0.01,'',0.1,'',.50,'',1.0,'',10.0])\n",
    "ax1.set_yticklabels(['', 0.01,'',0.1,'',.50,'',1.0,'',2.0])\n",
    "ax1.set_xlabel('z')\n",
    "ax1.set_ylabel('z')\n",
    "plt.colorbar()"
   ]
  },
  {
   "cell_type": "code",
   "execution_count": 8,
   "metadata": {},
   "outputs": [],
   "source": [
    "import likelihood"
   ]
  },
  {
   "cell_type": "code",
   "execution_count": 9,
   "metadata": {},
   "outputs": [],
   "source": [
    "stat_err, sys_err, tot_err, Chi2 = likelihood.likelihood_cal(par = [], dat_dir=os.getcwd() + '/Binned_data/', \n",
    "                                                             ifsys=True)"
   ]
  },
  {
   "cell_type": "code",
   "execution_count": 10,
   "metadata": {},
   "outputs": [
    {
     "data": {
      "text/plain": [
       "matrix([[0.0311 , 0.     , 0.     , ..., 0.     , 0.     , 0.     ],\n",
       "        [0.     , 0.02645, 0.     , ..., 0.     , 0.     , 0.     ],\n",
       "        [0.     , 0.     , 0.0231 , ..., 0.     , 0.     , 0.     ],\n",
       "        ...,\n",
       "        [0.     , 0.     , 0.     , ..., 0.0276 , 0.     , 0.     ],\n",
       "        [0.     , 0.     , 0.     , ..., 0.     , 0.05635, 0.     ],\n",
       "        [0.     , 0.     , 0.     , ..., 0.     , 0.     , 0.0735 ]])"
      ]
     },
     "execution_count": 10,
     "metadata": {},
     "output_type": "execute_result"
    }
   ],
   "source": [
    "stat_err"
   ]
  },
  {
   "cell_type": "code",
   "execution_count": 11,
   "metadata": {},
   "outputs": [
    {
     "data": {
      "text/plain": [
       "matrix([[4.550000e-04, 2.604450e-04, 2.728900e-04, ..., 1.010500e-05,\n",
       "         7.052000e-05, 2.991250e-04],\n",
       "        [2.604450e-04, 7.944400e-04, 1.326800e-04, ..., 8.776500e-05,\n",
       "         1.174200e-04, 2.373850e-04],\n",
       "        [2.728900e-04, 1.326800e-04, 2.166850e-04, ..., 1.490000e-06,\n",
       "         1.019800e-04, 3.108300e-04],\n",
       "        ...,\n",
       "        [1.010500e-05, 8.776500e-05, 1.490000e-06, ..., 6.024750e-04,\n",
       "         7.305850e-04, 8.186400e-04],\n",
       "        [7.052000e-05, 1.174200e-04, 1.019800e-04, ..., 7.305850e-04,\n",
       "         2.527705e-03, 2.599130e-03],\n",
       "        [2.991250e-04, 2.373850e-04, 3.108300e-04, ..., 8.186400e-04,\n",
       "         2.599130e-03, 3.628650e-03]])"
      ]
     },
     "execution_count": 11,
     "metadata": {},
     "output_type": "execute_result"
    }
   ],
   "source": [
    "sys_err"
   ]
  },
  {
   "cell_type": "code",
   "execution_count": 12,
   "metadata": {},
   "outputs": [
    {
     "data": {
      "text/plain": [
       "matrix([[3.1555000e-02, 2.6044500e-04, 2.7289000e-04, ..., 1.0105000e-05,\n",
       "         7.0520000e-05, 2.9912500e-04],\n",
       "        [2.6044500e-04, 2.7244440e-02, 1.3268000e-04, ..., 8.7765000e-05,\n",
       "         1.1742000e-04, 2.3738500e-04],\n",
       "        [2.7289000e-04, 1.3268000e-04, 2.3316685e-02, ..., 1.4900000e-06,\n",
       "         1.0198000e-04, 3.1083000e-04],\n",
       "        ...,\n",
       "        [1.0105000e-05, 8.7765000e-05, 1.4900000e-06, ..., 2.8202475e-02,\n",
       "         7.3058500e-04, 8.1864000e-04],\n",
       "        [7.0520000e-05, 1.1742000e-04, 1.0198000e-04, ..., 7.3058500e-04,\n",
       "         5.8877705e-02, 2.5991300e-03],\n",
       "        [2.9912500e-04, 2.3738500e-04, 3.1083000e-04, ..., 8.1864000e-04,\n",
       "         2.5991300e-03, 7.7128650e-02]])"
      ]
     },
     "execution_count": 12,
     "metadata": {},
     "output_type": "execute_result"
    }
   ],
   "source": [
    "tot_err"
   ]
  },
  {
   "cell_type": "code",
   "execution_count": 13,
   "metadata": {},
   "outputs": [
    {
     "data": {
      "text/plain": [
       "533.4744384298343"
      ]
     },
     "execution_count": 13,
     "metadata": {},
     "output_type": "execute_result"
    }
   ],
   "source": [
    "Chi2"
   ]
  },
  {
   "cell_type": "code",
   "execution_count": null,
   "metadata": {},
   "outputs": [],
   "source": []
  },
  {
   "cell_type": "code",
   "execution_count": null,
   "metadata": {},
   "outputs": [],
   "source": []
  }
 ],
 "metadata": {
  "kernelspec": {
   "display_name": "Python 3",
   "language": "python",
   "name": "python3"
  },
  "language_info": {
   "codemirror_mode": {
    "name": "ipython",
    "version": 3
   },
   "file_extension": ".py",
   "mimetype": "text/x-python",
   "name": "python",
   "nbconvert_exporter": "python",
   "pygments_lexer": "ipython3",
   "version": "3.7.1"
  }
 },
 "nbformat": 4,
 "nbformat_minor": 2
}
